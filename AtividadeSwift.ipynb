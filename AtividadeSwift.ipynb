{
  "cells": [
    {
      "cell_type": "markdown",
      "metadata": {
        "id": "view-in-github",
        "colab_type": "text"
      },
      "source": [
        "<a href=\"https://colab.research.google.com/github/gabisaitop/Clusters/blob/main/AtividadeSwift.ipynb\" target=\"_parent\"><img src=\"https://colab.research.google.com/assets/colab-badge.svg\" alt=\"Open In Colab\"/></a>"
      ]
    },
    {
      "cell_type": "code",
      "execution_count": null,
      "metadata": {
        "id": "4sjrioRl4J-x"
      },
      "outputs": [],
      "source": [
        "import pandas as pd\n",
        "import numpy as np\n",
        "import matplotlib.pyplot as plt\n",
        "from tkinter import font\n",
        "import seaborn as sns\n",
        "import datetime"
      ]
    },
    {
      "cell_type": "code",
      "execution_count": null,
      "metadata": {
        "colab": {
          "base_uri": "https://localhost:8080/",
          "height": 345
        },
        "id": "yqKbI5U140F3",
        "outputId": "4c72dfdc-46bc-4d9e-adf5-111bc5e279bf"
      },
      "outputs": [
        {
          "ename": "FileNotFoundError",
          "evalue": "ignored",
          "output_type": "error",
          "traceback": [
            "\u001b[0;31m---------------------------------------------------------------------------\u001b[0m",
            "\u001b[0;31mFileNotFoundError\u001b[0m                         Traceback (most recent call last)",
            "\u001b[0;32m<ipython-input-8-c2a12aa2fa87>\u001b[0m in \u001b[0;36m<module>\u001b[0;34m\u001b[0m\n\u001b[0;32m----> 1\u001b[0;31m \u001b[0mdf\u001b[0m \u001b[0;34m=\u001b[0m \u001b[0mpd\u001b[0m\u001b[0;34m.\u001b[0m\u001b[0mread_csv\u001b[0m\u001b[0;34m(\u001b[0m\u001b[0;34m'Swift_SALES.csv'\u001b[0m\u001b[0;34m)\u001b[0m\u001b[0;34m\u001b[0m\u001b[0;34m\u001b[0m\u001b[0m\n\u001b[0m\u001b[1;32m      2\u001b[0m \u001b[0mdf\u001b[0m\u001b[0;34m.\u001b[0m\u001b[0minfo\u001b[0m\u001b[0;34m(\u001b[0m\u001b[0;34m)\u001b[0m\u001b[0;34m\u001b[0m\u001b[0;34m\u001b[0m\u001b[0m\n",
            "\u001b[0;32m/usr/local/lib/python3.7/dist-packages/pandas/util/_decorators.py\u001b[0m in \u001b[0;36mwrapper\u001b[0;34m(*args, **kwargs)\u001b[0m\n\u001b[1;32m    309\u001b[0m                     \u001b[0mstacklevel\u001b[0m\u001b[0;34m=\u001b[0m\u001b[0mstacklevel\u001b[0m\u001b[0;34m,\u001b[0m\u001b[0;34m\u001b[0m\u001b[0;34m\u001b[0m\u001b[0m\n\u001b[1;32m    310\u001b[0m                 )\n\u001b[0;32m--> 311\u001b[0;31m             \u001b[0;32mreturn\u001b[0m \u001b[0mfunc\u001b[0m\u001b[0;34m(\u001b[0m\u001b[0;34m*\u001b[0m\u001b[0margs\u001b[0m\u001b[0;34m,\u001b[0m \u001b[0;34m**\u001b[0m\u001b[0mkwargs\u001b[0m\u001b[0;34m)\u001b[0m\u001b[0;34m\u001b[0m\u001b[0;34m\u001b[0m\u001b[0m\n\u001b[0m\u001b[1;32m    312\u001b[0m \u001b[0;34m\u001b[0m\u001b[0m\n\u001b[1;32m    313\u001b[0m         \u001b[0;32mreturn\u001b[0m \u001b[0mwrapper\u001b[0m\u001b[0;34m\u001b[0m\u001b[0;34m\u001b[0m\u001b[0m\n",
            "\u001b[0;32m/usr/local/lib/python3.7/dist-packages/pandas/io/parsers/readers.py\u001b[0m in \u001b[0;36mread_csv\u001b[0;34m(filepath_or_buffer, sep, delimiter, header, names, index_col, usecols, squeeze, prefix, mangle_dupe_cols, dtype, engine, converters, true_values, false_values, skipinitialspace, skiprows, skipfooter, nrows, na_values, keep_default_na, na_filter, verbose, skip_blank_lines, parse_dates, infer_datetime_format, keep_date_col, date_parser, dayfirst, cache_dates, iterator, chunksize, compression, thousands, decimal, lineterminator, quotechar, quoting, doublequote, escapechar, comment, encoding, encoding_errors, dialect, error_bad_lines, warn_bad_lines, on_bad_lines, delim_whitespace, low_memory, memory_map, float_precision, storage_options)\u001b[0m\n\u001b[1;32m    584\u001b[0m     \u001b[0mkwds\u001b[0m\u001b[0;34m.\u001b[0m\u001b[0mupdate\u001b[0m\u001b[0;34m(\u001b[0m\u001b[0mkwds_defaults\u001b[0m\u001b[0;34m)\u001b[0m\u001b[0;34m\u001b[0m\u001b[0;34m\u001b[0m\u001b[0m\n\u001b[1;32m    585\u001b[0m \u001b[0;34m\u001b[0m\u001b[0m\n\u001b[0;32m--> 586\u001b[0;31m     \u001b[0;32mreturn\u001b[0m \u001b[0m_read\u001b[0m\u001b[0;34m(\u001b[0m\u001b[0mfilepath_or_buffer\u001b[0m\u001b[0;34m,\u001b[0m \u001b[0mkwds\u001b[0m\u001b[0;34m)\u001b[0m\u001b[0;34m\u001b[0m\u001b[0;34m\u001b[0m\u001b[0m\n\u001b[0m\u001b[1;32m    587\u001b[0m \u001b[0;34m\u001b[0m\u001b[0m\n\u001b[1;32m    588\u001b[0m \u001b[0;34m\u001b[0m\u001b[0m\n",
            "\u001b[0;32m/usr/local/lib/python3.7/dist-packages/pandas/io/parsers/readers.py\u001b[0m in \u001b[0;36m_read\u001b[0;34m(filepath_or_buffer, kwds)\u001b[0m\n\u001b[1;32m    480\u001b[0m \u001b[0;34m\u001b[0m\u001b[0m\n\u001b[1;32m    481\u001b[0m     \u001b[0;31m# Create the parser.\u001b[0m\u001b[0;34m\u001b[0m\u001b[0;34m\u001b[0m\u001b[0;34m\u001b[0m\u001b[0m\n\u001b[0;32m--> 482\u001b[0;31m     \u001b[0mparser\u001b[0m \u001b[0;34m=\u001b[0m \u001b[0mTextFileReader\u001b[0m\u001b[0;34m(\u001b[0m\u001b[0mfilepath_or_buffer\u001b[0m\u001b[0;34m,\u001b[0m \u001b[0;34m**\u001b[0m\u001b[0mkwds\u001b[0m\u001b[0;34m)\u001b[0m\u001b[0;34m\u001b[0m\u001b[0;34m\u001b[0m\u001b[0m\n\u001b[0m\u001b[1;32m    483\u001b[0m \u001b[0;34m\u001b[0m\u001b[0m\n\u001b[1;32m    484\u001b[0m     \u001b[0;32mif\u001b[0m \u001b[0mchunksize\u001b[0m \u001b[0;32mor\u001b[0m \u001b[0miterator\u001b[0m\u001b[0;34m:\u001b[0m\u001b[0;34m\u001b[0m\u001b[0;34m\u001b[0m\u001b[0m\n",
            "\u001b[0;32m/usr/local/lib/python3.7/dist-packages/pandas/io/parsers/readers.py\u001b[0m in \u001b[0;36m__init__\u001b[0;34m(self, f, engine, **kwds)\u001b[0m\n\u001b[1;32m    809\u001b[0m             \u001b[0mself\u001b[0m\u001b[0;34m.\u001b[0m\u001b[0moptions\u001b[0m\u001b[0;34m[\u001b[0m\u001b[0;34m\"has_index_names\"\u001b[0m\u001b[0;34m]\u001b[0m \u001b[0;34m=\u001b[0m \u001b[0mkwds\u001b[0m\u001b[0;34m[\u001b[0m\u001b[0;34m\"has_index_names\"\u001b[0m\u001b[0;34m]\u001b[0m\u001b[0;34m\u001b[0m\u001b[0;34m\u001b[0m\u001b[0m\n\u001b[1;32m    810\u001b[0m \u001b[0;34m\u001b[0m\u001b[0m\n\u001b[0;32m--> 811\u001b[0;31m         \u001b[0mself\u001b[0m\u001b[0;34m.\u001b[0m\u001b[0m_engine\u001b[0m \u001b[0;34m=\u001b[0m \u001b[0mself\u001b[0m\u001b[0;34m.\u001b[0m\u001b[0m_make_engine\u001b[0m\u001b[0;34m(\u001b[0m\u001b[0mself\u001b[0m\u001b[0;34m.\u001b[0m\u001b[0mengine\u001b[0m\u001b[0;34m)\u001b[0m\u001b[0;34m\u001b[0m\u001b[0;34m\u001b[0m\u001b[0m\n\u001b[0m\u001b[1;32m    812\u001b[0m \u001b[0;34m\u001b[0m\u001b[0m\n\u001b[1;32m    813\u001b[0m     \u001b[0;32mdef\u001b[0m \u001b[0mclose\u001b[0m\u001b[0;34m(\u001b[0m\u001b[0mself\u001b[0m\u001b[0;34m)\u001b[0m\u001b[0;34m:\u001b[0m\u001b[0;34m\u001b[0m\u001b[0;34m\u001b[0m\u001b[0m\n",
            "\u001b[0;32m/usr/local/lib/python3.7/dist-packages/pandas/io/parsers/readers.py\u001b[0m in \u001b[0;36m_make_engine\u001b[0;34m(self, engine)\u001b[0m\n\u001b[1;32m   1038\u001b[0m             )\n\u001b[1;32m   1039\u001b[0m         \u001b[0;31m# error: Too many arguments for \"ParserBase\"\u001b[0m\u001b[0;34m\u001b[0m\u001b[0;34m\u001b[0m\u001b[0;34m\u001b[0m\u001b[0m\n\u001b[0;32m-> 1040\u001b[0;31m         \u001b[0;32mreturn\u001b[0m \u001b[0mmapping\u001b[0m\u001b[0;34m[\u001b[0m\u001b[0mengine\u001b[0m\u001b[0;34m]\u001b[0m\u001b[0;34m(\u001b[0m\u001b[0mself\u001b[0m\u001b[0;34m.\u001b[0m\u001b[0mf\u001b[0m\u001b[0;34m,\u001b[0m \u001b[0;34m**\u001b[0m\u001b[0mself\u001b[0m\u001b[0;34m.\u001b[0m\u001b[0moptions\u001b[0m\u001b[0;34m)\u001b[0m  \u001b[0;31m# type: ignore[call-arg]\u001b[0m\u001b[0;34m\u001b[0m\u001b[0;34m\u001b[0m\u001b[0m\n\u001b[0m\u001b[1;32m   1041\u001b[0m \u001b[0;34m\u001b[0m\u001b[0m\n\u001b[1;32m   1042\u001b[0m     \u001b[0;32mdef\u001b[0m \u001b[0m_failover_to_python\u001b[0m\u001b[0;34m(\u001b[0m\u001b[0mself\u001b[0m\u001b[0;34m)\u001b[0m\u001b[0;34m:\u001b[0m\u001b[0;34m\u001b[0m\u001b[0;34m\u001b[0m\u001b[0m\n",
            "\u001b[0;32m/usr/local/lib/python3.7/dist-packages/pandas/io/parsers/c_parser_wrapper.py\u001b[0m in \u001b[0;36m__init__\u001b[0;34m(self, src, **kwds)\u001b[0m\n\u001b[1;32m     49\u001b[0m \u001b[0;34m\u001b[0m\u001b[0m\n\u001b[1;32m     50\u001b[0m         \u001b[0;31m# open handles\u001b[0m\u001b[0;34m\u001b[0m\u001b[0;34m\u001b[0m\u001b[0;34m\u001b[0m\u001b[0m\n\u001b[0;32m---> 51\u001b[0;31m         \u001b[0mself\u001b[0m\u001b[0;34m.\u001b[0m\u001b[0m_open_handles\u001b[0m\u001b[0;34m(\u001b[0m\u001b[0msrc\u001b[0m\u001b[0;34m,\u001b[0m \u001b[0mkwds\u001b[0m\u001b[0;34m)\u001b[0m\u001b[0;34m\u001b[0m\u001b[0;34m\u001b[0m\u001b[0m\n\u001b[0m\u001b[1;32m     52\u001b[0m         \u001b[0;32massert\u001b[0m \u001b[0mself\u001b[0m\u001b[0;34m.\u001b[0m\u001b[0mhandles\u001b[0m \u001b[0;32mis\u001b[0m \u001b[0;32mnot\u001b[0m \u001b[0;32mNone\u001b[0m\u001b[0;34m\u001b[0m\u001b[0;34m\u001b[0m\u001b[0m\n\u001b[1;32m     53\u001b[0m \u001b[0;34m\u001b[0m\u001b[0m\n",
            "\u001b[0;32m/usr/local/lib/python3.7/dist-packages/pandas/io/parsers/base_parser.py\u001b[0m in \u001b[0;36m_open_handles\u001b[0;34m(self, src, kwds)\u001b[0m\n\u001b[1;32m    227\u001b[0m             \u001b[0mmemory_map\u001b[0m\u001b[0;34m=\u001b[0m\u001b[0mkwds\u001b[0m\u001b[0;34m.\u001b[0m\u001b[0mget\u001b[0m\u001b[0;34m(\u001b[0m\u001b[0;34m\"memory_map\"\u001b[0m\u001b[0;34m,\u001b[0m \u001b[0;32mFalse\u001b[0m\u001b[0;34m)\u001b[0m\u001b[0;34m,\u001b[0m\u001b[0;34m\u001b[0m\u001b[0;34m\u001b[0m\u001b[0m\n\u001b[1;32m    228\u001b[0m             \u001b[0mstorage_options\u001b[0m\u001b[0;34m=\u001b[0m\u001b[0mkwds\u001b[0m\u001b[0;34m.\u001b[0m\u001b[0mget\u001b[0m\u001b[0;34m(\u001b[0m\u001b[0;34m\"storage_options\"\u001b[0m\u001b[0;34m,\u001b[0m \u001b[0;32mNone\u001b[0m\u001b[0;34m)\u001b[0m\u001b[0;34m,\u001b[0m\u001b[0;34m\u001b[0m\u001b[0;34m\u001b[0m\u001b[0m\n\u001b[0;32m--> 229\u001b[0;31m             \u001b[0merrors\u001b[0m\u001b[0;34m=\u001b[0m\u001b[0mkwds\u001b[0m\u001b[0;34m.\u001b[0m\u001b[0mget\u001b[0m\u001b[0;34m(\u001b[0m\u001b[0;34m\"encoding_errors\"\u001b[0m\u001b[0;34m,\u001b[0m \u001b[0;34m\"strict\"\u001b[0m\u001b[0;34m)\u001b[0m\u001b[0;34m,\u001b[0m\u001b[0;34m\u001b[0m\u001b[0;34m\u001b[0m\u001b[0m\n\u001b[0m\u001b[1;32m    230\u001b[0m         )\n\u001b[1;32m    231\u001b[0m \u001b[0;34m\u001b[0m\u001b[0m\n",
            "\u001b[0;32m/usr/local/lib/python3.7/dist-packages/pandas/io/common.py\u001b[0m in \u001b[0;36mget_handle\u001b[0;34m(path_or_buf, mode, encoding, compression, memory_map, is_text, errors, storage_options)\u001b[0m\n\u001b[1;32m    705\u001b[0m                 \u001b[0mencoding\u001b[0m\u001b[0;34m=\u001b[0m\u001b[0mioargs\u001b[0m\u001b[0;34m.\u001b[0m\u001b[0mencoding\u001b[0m\u001b[0;34m,\u001b[0m\u001b[0;34m\u001b[0m\u001b[0;34m\u001b[0m\u001b[0m\n\u001b[1;32m    706\u001b[0m                 \u001b[0merrors\u001b[0m\u001b[0;34m=\u001b[0m\u001b[0merrors\u001b[0m\u001b[0;34m,\u001b[0m\u001b[0;34m\u001b[0m\u001b[0;34m\u001b[0m\u001b[0m\n\u001b[0;32m--> 707\u001b[0;31m                 \u001b[0mnewline\u001b[0m\u001b[0;34m=\u001b[0m\u001b[0;34m\"\"\u001b[0m\u001b[0;34m,\u001b[0m\u001b[0;34m\u001b[0m\u001b[0;34m\u001b[0m\u001b[0m\n\u001b[0m\u001b[1;32m    708\u001b[0m             )\n\u001b[1;32m    709\u001b[0m         \u001b[0;32melse\u001b[0m\u001b[0;34m:\u001b[0m\u001b[0;34m\u001b[0m\u001b[0;34m\u001b[0m\u001b[0m\n",
            "\u001b[0;31mFileNotFoundError\u001b[0m: [Errno 2] No such file or directory: 'Swift_SALES.csv'"
          ]
        }
      ],
      "source": [
        "df = pd.read_csv('Swift_SALES.csv')\n",
        "df.info()"
      ]
    },
    {
      "cell_type": "code",
      "execution_count": null,
      "metadata": {
        "id": "98YDE7TR8gwp"
      },
      "outputs": [],
      "source": [
        "df_list = df[['id_cliente', 'id_pedido', 'item_id', 'preco', 'horario_pedido']]\n",
        "df.head()"
      ]
    },
    {
      "cell_type": "code",
      "execution_count": null,
      "metadata": {
        "id": "zUrjrMUhHLvX"
      },
      "outputs": [],
      "source": [
        "df_list.head()"
      ]
    },
    {
      "cell_type": "code",
      "execution_count": null,
      "metadata": {
        "id": "BC4bJSQCHSds"
      },
      "outputs": [],
      "source": [
        "df_compra = df.groupby('id_cliente').horario_pedido.max().reset_index()\n",
        "df_compra.columns = ['id_cliente', 'DataMaxCompra']\n",
        "df_compra.head()"
      ]
    },
    {
      "cell_type": "code",
      "execution_count": null,
      "metadata": {
        "id": "Xj76HUHFJbuo"
      },
      "outputs": [],
      "source": [
        "df_compra['DataMaxCompra'] = pd.to_datetime(df_compra['DataMaxCompra'])"
      ]
    },
    {
      "cell_type": "code",
      "execution_count": null,
      "metadata": {
        "id": "xKlpDC8HHvJk"
      },
      "outputs": [],
      "source": [
        "df_compra['Recencia'] = (datetime.datetime.today() - df_compra['DataMaxCompra']).dt.days\n",
        "df_compra.head()"
      ]
    },
    {
      "cell_type": "code",
      "execution_count": null,
      "metadata": {
        "id": "QF4f2yjxKQiE"
      },
      "outputs": [],
      "source": [
        "df_cliente = pd.merge(df_list, df_compra[['id_cliente', 'Recencia']], on = 'id_cliente')\n",
        "df_cliente.head()"
      ]
    },
    {
      "cell_type": "code",
      "execution_count": null,
      "metadata": {
        "id": "b6is6vdDMQX4"
      },
      "outputs": [],
      "source": [
        "from sklearn.cluster import KMeans\n",
        "from matplotlib import pyplot as plt\n",
        "\n",
        "df_recencia = df_cliente[['Recencia']]\n",
        "\n",
        "wcss=[]\n",
        "for i in range(2, 10):\n",
        "    kmeans = KMeans(n_clusters=i, init='k-means++', max_iter=len(df_recencia), n_init=10, random_state=0)\n",
        "    kmeans.fit(df_recencia)\n",
        "    wcss.append(kmeans.inertia_)\n",
        "\n",
        "plt.plot(range(2,10), wcss)\n",
        "plt.title('Metodo do cotovelo')\n",
        "plt.show()"
      ]
    },
    {
      "cell_type": "code",
      "execution_count": null,
      "metadata": {
        "id": "qhqYN1HQOVk3"
      },
      "outputs": [],
      "source": [
        "import math\n",
        "\n",
        "def numero_otimo_cluster(wcss, cluster_final) :\n",
        "  x0, y0 = 2, wcss[0]\n",
        "  x1, y1 = cluster_final, wcss[-1]\n",
        "  distancia = []\n",
        "\n",
        "  for i in range(len(wcss)):\n",
        "    x = i + 2\n",
        "    y = wcss[i]\n",
        "\n",
        "    numerator = abs((y1 - y0)*x - (x1 - x0)*y + x1*y0 - y1*x0)\n",
        "    denominator = math.sqrt((y1-y0)**2 + (x1-x0)**2)\n",
        "    distance=(numerator/denominator)\n",
        "    distancia.append(distance)\n",
        "    \n",
        "  return distancia.index(max(distancia))+2\n",
        "\n",
        "print('O cluster ideal é: ', numero_otimo_cluster(wcss, 10))"
      ]
    },
    {
      "cell_type": "code",
      "execution_count": null,
      "metadata": {
        "id": "a6LhFM4q8upD"
      },
      "outputs": [],
      "source": [
        "KMeans = KMeans(n_clusters=4)\n",
        "df_cliente['RecenciaCluster'] = KMeans.fit_predict(df_recencia)\n",
        "df_cliente.head()"
      ]
    },
    {
      "cell_type": "code",
      "execution_count": null,
      "metadata": {
        "id": "rAhq-JCj8-j2"
      },
      "outputs": [],
      "source": [
        "#calcular a media de cada cluster\n",
        "agrupado_por_cluster = df_cliente.groupby('RecenciaCluster')['Recencia'].mean().reset_index()\n",
        "agrupado_por_cluster.head()"
      ]
    },
    {
      "cell_type": "code",
      "execution_count": null,
      "metadata": {
        "id": "JHlnuZ1i95Il"
      },
      "outputs": [],
      "source": [
        "#colocar em ordem para dar pontuação dos clientes... quando autor a media da recencia... mais pontos...\n",
        "agrupado_por_cluster_ordenado = agrupado_por_cluster.sort_values(by='Recencia', ascending=False).reset_index()\n",
        "agrupado_por_cluster_ordenado.head()"
      ]
    },
    {
      "cell_type": "code",
      "execution_count": null,
      "metadata": {
        "id": "x5w8XMk-_xB_"
      },
      "outputs": [],
      "source": [
        "#add uma nova coluna \"index score\" para salvar a ordenacao\n",
        "agrupado_por_cluster_ordenado['score'] =  agrupado_por_cluster_ordenado.index\n",
        "agrupado_por_cluster_ordenado = agrupado_por_cluster_ordenado.drop(['index'], axis = 1)\n",
        "agrupado_por_cluster_ordenado.head()"
      ]
    },
    {
      "cell_type": "code",
      "execution_count": null,
      "metadata": {
        "id": "LjHrk_s_KJzN"
      },
      "outputs": [],
      "source": [
        "#Pereparar para adicionar[\n",
        "juntando_cluster = pd.merge(df_cliente, agrupado_por_cluster_ordenado [['RecenciaCluster', 'score']], on='RecenciaCluster')\n",
        "juntando_cluster.head()"
      ]
    },
    {
      "cell_type": "code",
      "execution_count": null,
      "metadata": {
        "id": "MrOaxYCELbe_"
      },
      "outputs": [],
      "source": [
        "#removendo os dados da coliuna cluster\n",
        "removendo_dados = juntando_cluster.drop(['RecenciaCluster'], axis=1)\n",
        "removendo_dados.head()"
      ]
    },
    {
      "cell_type": "code",
      "execution_count": null,
      "metadata": {
        "id": "6NeRjmkRLtvM"
      },
      "outputs": [],
      "source": [
        "df_final = removendo_dados.rename(columns={'score': 'RecenciaScore'})\n",
        "df_final.head()"
      ]
    },
    {
      "cell_type": "code",
      "execution_count": null,
      "metadata": {
        "id": "y9T9cDvXMC2a"
      },
      "outputs": [],
      "source": [
        "#função gráfica\n",
        "def plot_perc(st, dados):\n",
        "  g = sns.countplot(x=st, data=dados, orient='h')\n",
        "  g.set_ylabel('Valores')\n",
        "  sizes = []\n",
        "\n",
        "  for p in g.patches:\n",
        "    height = p.get_height()\n",
        "    sizes.append(height)\n",
        "    g.text(p.get_x() + p.get_width()/1.6, height + 200, '{:1.2f}%'.format(height/116581*100), ha='center', va='bottom', fontSize=12)\n",
        "\n",
        "  g.set_ylim(0, max(sizes)* 1.1)"
      ]
    },
    {
      "cell_type": "code",
      "execution_count": null,
      "metadata": {
        "id": "fEQQYCLTOo-4"
      },
      "outputs": [],
      "source": [
        "plot_perc('RecenciaScore', df_final)"
      ]
    },
    {
      "cell_type": "code",
      "execution_count": null,
      "metadata": {
        "id": "AFNDTI-jQ0SC"
      },
      "outputs": [],
      "source": [
        "#Sugestão: montar funcao para adicionar e organizar o SCORE por cluster\n",
        "# - cluster_name: campo com os grupos de cluster\n",
        "# - target_name: campo objeto de analise\n",
        "# - score_name: nome final do campo após finalizar o processo\n",
        "# - df: DataFrame com o resultado do K-means\n",
        "# - ordem: True - crescente / False - decrescente\n",
        "\n",
        "def ordernador_cluster(cluster_name, target_name, score_name, df, ordem):\n",
        "    agrupado_por_cluster = df.groupby(cluster_name)[target_name].mean().reset_index()\n",
        "    agrupado_por_cluster_ordenado = agrupado_por_cluster.sort_values(by=target_name,ascending=ordem).reset_index(drop=True)\n",
        "    agrupado_por_cluster_ordenado['score'] = agrupado_por_cluster_ordenado.index\n",
        "    juntanto_cluster = pd.merge(df, agrupado_por_cluster_ordenado[[cluster_name,'score']], on=cluster_name)\n",
        "    removendo_dados = juntanto_cluster.drop([cluster_name],axis = 1)\n",
        "    df_final = removendo_dados.rename(columns={'score': score_name})\n",
        "    return df_final\n"
      ]
    },
    {
      "cell_type": "code",
      "execution_count": null,
      "metadata": {
        "id": "3cUeGrhFXV_P"
      },
      "outputs": [],
      "source": [
        "#carregar na base de cliente\n",
        "df_cliente = ordernador_cluster('RecenciaCluster','Recencia','RecenciaScore', df_cliente, False)\n",
        "df_cliente.head()"
      ]
    },
    {
      "cell_type": "code",
      "execution_count": null,
      "metadata": {
        "id": "AT_jiKIAXaRm"
      },
      "outputs": [],
      "source": [
        "df_final.groupby('RecenciaScore')['Recencia'].describe()"
      ]
    },
    {
      "cell_type": "code",
      "execution_count": null,
      "metadata": {
        "colab": {
          "base_uri": "https://localhost:8080/"
        },
        "id": "MhQ5ndc2a0jZ",
        "outputId": "8e3bdc76-bed1-42b6-a90a-8529bf3d071f"
      },
      "outputs": [
        {
          "name": "stdout",
          "output_type": "stream",
          "text": [
            "<class 'pandas.core.frame.DataFrame'>\n",
            "RangeIndex: 116581 entries, 0 to 116580\n",
            "Data columns (total 27 columns):\n",
            " #   Column                Non-Null Count   Dtype  \n",
            "---  ------                --------------   -----  \n",
            " 0   amostra               116581 non-null  int64  \n",
            " 1   id_cliente            116581 non-null  object \n",
            " 2   id_unico_cliente      116581 non-null  object \n",
            " 3   item_id               116581 non-null  int64  \n",
            " 4   cep_cliente           116581 non-null  int64  \n",
            " 5   cidade_cliente        116581 non-null  object \n",
            " 6   estado_cliente        116581 non-null  object \n",
            " 7   id_pedido             116581 non-null  object \n",
            " 8   status_pedido         116581 non-null  object \n",
            " 9   horario_pedido        116581 non-null  object \n",
            " 10  pedido_aprovado       116567 non-null  object \n",
            " 11  pedido_entregador     115368 non-null  object \n",
            " 12  pedido_entregue       114066 non-null  object \n",
            " 13  data_estimada         116581 non-null  object \n",
            " 14  id_vendedor           116581 non-null  object \n",
            " 15  preco                 116581 non-null  float64\n",
            " 16  frete                 116581 non-null  float64\n",
            " 17  pagamento_sequencial  116581 non-null  int64  \n",
            " 18  pagamento_tipo        116581 non-null  object \n",
            " 19  pagamento_prestacoes  116581 non-null  int64  \n",
            " 20  pagamento_valor       116581 non-null  float64\n",
            " 21  review                116581 non-null  int64  \n",
            " 22  categoria             116581 non-null  object \n",
            " 23  categoria_ingles      116581 non-null  object \n",
            " 24  cep_vendedor          116581 non-null  int64  \n",
            " 25  cidade_vendedor       116581 non-null  object \n",
            " 26  estado_vendedor       116581 non-null  object \n",
            "dtypes: float64(3), int64(7), object(17)\n",
            "memory usage: 24.0+ MB\n"
          ]
        }
      ],
      "source": [
        "#mostra estrutura da base de dados\n",
        "df.info()\n"
      ]
    },
    {
      "cell_type": "code",
      "execution_count": null,
      "metadata": {
        "colab": {
          "base_uri": "https://localhost:8080/"
        },
        "id": "Ht1_bLwCbaId",
        "outputId": "6ff57641-e685-4f03-d9eb-d63f4e73a0f7"
      },
      "outputs": [
        {
          "name": "stdout",
          "output_type": "stream",
          "text": [
            "                             id_cliente  Frequencia\n",
            "0      00012a2ce6f8dcda20d059ce98491703           1\n",
            "1      000161a058600d5901f007fab4c27140           1\n",
            "2      0001fd6190edaaf884bcaf3d49edf079           1\n",
            "3      0002414f95344307404f0ace7a26f1d5           1\n",
            "4      000379cdec625522490c315e70c7a9fb           1\n",
            "...                                 ...         ...\n",
            "97250  fffcb937e9dd47a13f05ecb8290f4d3e           1\n",
            "97251  fffecc9f79fd8c764f843e9951b11341           3\n",
            "97252  fffeda5b6d849fbd39689bb92087f431           1\n",
            "97253  ffff42319e9b2d713724ae527742af25           1\n",
            "97254  ffffa3172527f765de70084a7e53aae8           2\n",
            "\n",
            "[97255 rows x 2 columns]\n"
          ]
        }
      ],
      "source": [
        "#calcular o score para frequencia:\n",
        "#definir campo de frequencia\n",
        "df_frequencia = df.groupby('id_cliente').pedido_aprovado.count().reset_index()\n",
        "df_frequencia.columns = ['id_cliente', 'Frequencia']\n",
        "print(df_frequencia)"
      ]
    },
    {
      "cell_type": "code",
      "execution_count": null,
      "metadata": {
        "colab": {
          "base_uri": "https://localhost:8080/"
        },
        "id": "2hQZWCOacTAJ",
        "outputId": "de00ad23-f157-4a35-d1d0-1fe381b2af18"
      },
      "outputs": [
        {
          "name": "stdout",
          "output_type": "stream",
          "text": [
            "                              id_cliente                         id_pedido  \\\n",
            "0       06b8999e2fba1a1fbc88172c00ba8bc7  00e7ee1b050b8499577073aeb2a297a1   \n",
            "1       f0ac8e5a239118859b1734e1087cbb1f  b1a5d5365d330d10485e0203d54ab9e8   \n",
            "2       fd3a0b1bd209f0e7d420c9c3d1127613  574fe1739f65af76badd0999db300b4f   \n",
            "3       fbd40c083aa8cddebb5265b2ba6aaf2e  e0b26f14d2bcc710bb02f77a4628763b   \n",
            "4       10558ef4afea173bfb5e2cbe3d5b0bb5  eaae5bd20fb15d85aa673d9b7c0e8ca5   \n",
            "...                                  ...                               ...   \n",
            "116576  ce2172509c4149d65212484eb761bc37  edcf1e1eeb52381be9388c90152be52d   \n",
            "116577  ee1cfdc92e449920e25d3ca4ab4da4f6  2ef4a11b6e24fdfbb43b92cb5f95edff   \n",
            "116578  ee1cfdc92e449920e25d3ca4ab4da4f6  2ef4a11b6e24fdfbb43b92cb5f95edff   \n",
            "116579  ab0cf72dfe0538a63a57d6905ccb7b57  2c12150c742ae2fa48bc703964c16c5f   \n",
            "116580  c61336d6c835632048f973d2f2db598d  9f7ba492c273ffac8f90a623b8eadd3b   \n",
            "\n",
            "        item_id   preco       horario_pedido  Recencia  RecenciaScore  \\\n",
            "0             1  124.99  2020-05-16 15:05:35       907              0   \n",
            "1             1  124.99  2020-05-07 20:11:26       915              0   \n",
            "2             1  126.99  2020-03-23 15:10:17       961              0   \n",
            "3             1  124.99  2020-05-16 10:00:49       907              0   \n",
            "4             1  126.99  2020-03-18 23:04:36       965              0   \n",
            "...         ...     ...                  ...       ...            ...   \n",
            "116576        1  289.49  2021-08-21 11:29:05       445              3   \n",
            "116577        1   19.00  2021-07-23 18:35:14       473              3   \n",
            "116578        2   39.90  2021-07-23 18:35:14       473              3   \n",
            "116579        1   57.90  2021-07-28 17:55:27       468              3   \n",
            "116580        1   11.90  2021-08-23 12:31:37       443              3   \n",
            "\n",
            "        Frequencia  \n",
            "0                1  \n",
            "1                1  \n",
            "2                1  \n",
            "3                1  \n",
            "4                1  \n",
            "...            ...  \n",
            "116576           1  \n",
            "116577           2  \n",
            "116578           2  \n",
            "116579           1  \n",
            "116580           1  \n",
            "\n",
            "[116581 rows x 8 columns]\n"
          ]
        }
      ],
      "source": [
        "#2o etapa:\n",
        "#adicionar o calculo no df_cliente:\n",
        "df_cliente = pd.merge(df_cliente, df_frequencia, on='id_cliente') #precisa saber qual o campo de ligação p fazer a conexao\n",
        "print(df_cliente)"
      ]
    },
    {
      "cell_type": "code",
      "execution_count": null,
      "metadata": {
        "colab": {
          "base_uri": "https://localhost:8080/",
          "height": 357
        },
        "id": "y9UVa1H5dnmp",
        "outputId": "eb33e6dd-1da1-4de8-d020-519ca41ea1c7"
      },
      "outputs": [
        {
          "data": {
            "text/html": [
              "\n",
              "  <div id=\"df-db5d2db9-dee7-4bdf-9bd4-d65968578e24\">\n",
              "    <div class=\"colab-df-container\">\n",
              "      <div>\n",
              "<style scoped>\n",
              "    .dataframe tbody tr th:only-of-type {\n",
              "        vertical-align: middle;\n",
              "    }\n",
              "\n",
              "    .dataframe tbody tr th {\n",
              "        vertical-align: top;\n",
              "    }\n",
              "\n",
              "    .dataframe thead th {\n",
              "        text-align: right;\n",
              "    }\n",
              "</style>\n",
              "<table border=\"1\" class=\"dataframe\">\n",
              "  <thead>\n",
              "    <tr style=\"text-align: right;\">\n",
              "      <th></th>\n",
              "      <th>id_cliente</th>\n",
              "      <th>id_pedido</th>\n",
              "      <th>item_id</th>\n",
              "      <th>preco</th>\n",
              "      <th>horario_pedido</th>\n",
              "      <th>Recencia</th>\n",
              "      <th>RecenciaScore</th>\n",
              "      <th>Frequencia</th>\n",
              "    </tr>\n",
              "  </thead>\n",
              "  <tbody>\n",
              "    <tr>\n",
              "      <th>0</th>\n",
              "      <td>06b8999e2fba1a1fbc88172c00ba8bc7</td>\n",
              "      <td>00e7ee1b050b8499577073aeb2a297a1</td>\n",
              "      <td>1</td>\n",
              "      <td>124.99</td>\n",
              "      <td>2020-05-16 15:05:35</td>\n",
              "      <td>907</td>\n",
              "      <td>0</td>\n",
              "      <td>1</td>\n",
              "    </tr>\n",
              "    <tr>\n",
              "      <th>1</th>\n",
              "      <td>f0ac8e5a239118859b1734e1087cbb1f</td>\n",
              "      <td>b1a5d5365d330d10485e0203d54ab9e8</td>\n",
              "      <td>1</td>\n",
              "      <td>124.99</td>\n",
              "      <td>2020-05-07 20:11:26</td>\n",
              "      <td>915</td>\n",
              "      <td>0</td>\n",
              "      <td>1</td>\n",
              "    </tr>\n",
              "    <tr>\n",
              "      <th>2</th>\n",
              "      <td>fd3a0b1bd209f0e7d420c9c3d1127613</td>\n",
              "      <td>574fe1739f65af76badd0999db300b4f</td>\n",
              "      <td>1</td>\n",
              "      <td>126.99</td>\n",
              "      <td>2020-03-23 15:10:17</td>\n",
              "      <td>961</td>\n",
              "      <td>0</td>\n",
              "      <td>1</td>\n",
              "    </tr>\n",
              "    <tr>\n",
              "      <th>3</th>\n",
              "      <td>fbd40c083aa8cddebb5265b2ba6aaf2e</td>\n",
              "      <td>e0b26f14d2bcc710bb02f77a4628763b</td>\n",
              "      <td>1</td>\n",
              "      <td>124.99</td>\n",
              "      <td>2020-05-16 10:00:49</td>\n",
              "      <td>907</td>\n",
              "      <td>0</td>\n",
              "      <td>1</td>\n",
              "    </tr>\n",
              "    <tr>\n",
              "      <th>4</th>\n",
              "      <td>10558ef4afea173bfb5e2cbe3d5b0bb5</td>\n",
              "      <td>eaae5bd20fb15d85aa673d9b7c0e8ca5</td>\n",
              "      <td>1</td>\n",
              "      <td>126.99</td>\n",
              "      <td>2020-03-18 23:04:36</td>\n",
              "      <td>965</td>\n",
              "      <td>0</td>\n",
              "      <td>1</td>\n",
              "    </tr>\n",
              "  </tbody>\n",
              "</table>\n",
              "</div>\n",
              "      <button class=\"colab-df-convert\" onclick=\"convertToInteractive('df-db5d2db9-dee7-4bdf-9bd4-d65968578e24')\"\n",
              "              title=\"Convert this dataframe to an interactive table.\"\n",
              "              style=\"display:none;\">\n",
              "        \n",
              "  <svg xmlns=\"http://www.w3.org/2000/svg\" height=\"24px\"viewBox=\"0 0 24 24\"\n",
              "       width=\"24px\">\n",
              "    <path d=\"M0 0h24v24H0V0z\" fill=\"none\"/>\n",
              "    <path d=\"M18.56 5.44l.94 2.06.94-2.06 2.06-.94-2.06-.94-.94-2.06-.94 2.06-2.06.94zm-11 1L8.5 8.5l.94-2.06 2.06-.94-2.06-.94L8.5 2.5l-.94 2.06-2.06.94zm10 10l.94 2.06.94-2.06 2.06-.94-2.06-.94-.94-2.06-.94 2.06-2.06.94z\"/><path d=\"M17.41 7.96l-1.37-1.37c-.4-.4-.92-.59-1.43-.59-.52 0-1.04.2-1.43.59L10.3 9.45l-7.72 7.72c-.78.78-.78 2.05 0 2.83L4 21.41c.39.39.9.59 1.41.59.51 0 1.02-.2 1.41-.59l7.78-7.78 2.81-2.81c.8-.78.8-2.07 0-2.86zM5.41 20L4 18.59l7.72-7.72 1.47 1.35L5.41 20z\"/>\n",
              "  </svg>\n",
              "      </button>\n",
              "      \n",
              "  <style>\n",
              "    .colab-df-container {\n",
              "      display:flex;\n",
              "      flex-wrap:wrap;\n",
              "      gap: 12px;\n",
              "    }\n",
              "\n",
              "    .colab-df-convert {\n",
              "      background-color: #E8F0FE;\n",
              "      border: none;\n",
              "      border-radius: 50%;\n",
              "      cursor: pointer;\n",
              "      display: none;\n",
              "      fill: #1967D2;\n",
              "      height: 32px;\n",
              "      padding: 0 0 0 0;\n",
              "      width: 32px;\n",
              "    }\n",
              "\n",
              "    .colab-df-convert:hover {\n",
              "      background-color: #E2EBFA;\n",
              "      box-shadow: 0px 1px 2px rgba(60, 64, 67, 0.3), 0px 1px 3px 1px rgba(60, 64, 67, 0.15);\n",
              "      fill: #174EA6;\n",
              "    }\n",
              "\n",
              "    [theme=dark] .colab-df-convert {\n",
              "      background-color: #3B4455;\n",
              "      fill: #D2E3FC;\n",
              "    }\n",
              "\n",
              "    [theme=dark] .colab-df-convert:hover {\n",
              "      background-color: #434B5C;\n",
              "      box-shadow: 0px 1px 3px 1px rgba(0, 0, 0, 0.15);\n",
              "      filter: drop-shadow(0px 1px 2px rgba(0, 0, 0, 0.3));\n",
              "      fill: #FFFFFF;\n",
              "    }\n",
              "  </style>\n",
              "\n",
              "      <script>\n",
              "        const buttonEl =\n",
              "          document.querySelector('#df-db5d2db9-dee7-4bdf-9bd4-d65968578e24 button.colab-df-convert');\n",
              "        buttonEl.style.display =\n",
              "          google.colab.kernel.accessAllowed ? 'block' : 'none';\n",
              "\n",
              "        async function convertToInteractive(key) {\n",
              "          const element = document.querySelector('#df-db5d2db9-dee7-4bdf-9bd4-d65968578e24');\n",
              "          const dataTable =\n",
              "            await google.colab.kernel.invokeFunction('convertToInteractive',\n",
              "                                                     [key], {});\n",
              "          if (!dataTable) return;\n",
              "\n",
              "          const docLinkHtml = 'Like what you see? Visit the ' +\n",
              "            '<a target=\"_blank\" href=https://colab.research.google.com/notebooks/data_table.ipynb>data table notebook</a>'\n",
              "            + ' to learn more about interactive tables.';\n",
              "          element.innerHTML = '';\n",
              "          dataTable['output_type'] = 'display_data';\n",
              "          await google.colab.output.renderOutput(dataTable, element);\n",
              "          const docLink = document.createElement('div');\n",
              "          docLink.innerHTML = docLinkHtml;\n",
              "          element.appendChild(docLink);\n",
              "        }\n",
              "      </script>\n",
              "    </div>\n",
              "  </div>\n",
              "  "
            ],
            "text/plain": [
              "                         id_cliente                         id_pedido  \\\n",
              "0  06b8999e2fba1a1fbc88172c00ba8bc7  00e7ee1b050b8499577073aeb2a297a1   \n",
              "1  f0ac8e5a239118859b1734e1087cbb1f  b1a5d5365d330d10485e0203d54ab9e8   \n",
              "2  fd3a0b1bd209f0e7d420c9c3d1127613  574fe1739f65af76badd0999db300b4f   \n",
              "3  fbd40c083aa8cddebb5265b2ba6aaf2e  e0b26f14d2bcc710bb02f77a4628763b   \n",
              "4  10558ef4afea173bfb5e2cbe3d5b0bb5  eaae5bd20fb15d85aa673d9b7c0e8ca5   \n",
              "\n",
              "   item_id   preco       horario_pedido  Recencia  RecenciaScore  Frequencia  \n",
              "0        1  124.99  2020-05-16 15:05:35       907              0           1  \n",
              "1        1  124.99  2020-05-07 20:11:26       915              0           1  \n",
              "2        1  126.99  2020-03-23 15:10:17       961              0           1  \n",
              "3        1  124.99  2020-05-16 10:00:49       907              0           1  \n",
              "4        1  126.99  2020-03-18 23:04:36       965              0           1  "
            ]
          },
          "execution_count": 29,
          "metadata": {},
          "output_type": "execute_result"
        }
      ],
      "source": [
        "df_cliente.head()"
      ]
    },
    {
      "cell_type": "code",
      "execution_count": null,
      "metadata": {
        "colab": {
          "background_save": true,
          "base_uri": "https://localhost:8080/",
          "height": 252
        },
        "id": "Ivwe54Rkd5ei",
        "outputId": "0955ee6f-3338-42e1-cc72-36f2ad654c50"
      },
      "outputs": [
        {
          "ename": "TypeError",
          "evalue": "ignored",
          "output_type": "error",
          "traceback": [
            "\u001b[0;31m---------------------------------------------------------------------------\u001b[0m",
            "\u001b[0;31mTypeError\u001b[0m                                 Traceback (most recent call last)",
            "\u001b[0;32m<ipython-input-33-314dd3e44238>\u001b[0m in \u001b[0;36m<module>\u001b[0;34m\u001b[0m\n\u001b[1;32m      2\u001b[0m \u001b[0;31m#definindo os clusters (grupos):\u001b[0m\u001b[0;34m\u001b[0m\u001b[0;34m\u001b[0m\u001b[0;34m\u001b[0m\u001b[0m\n\u001b[1;32m      3\u001b[0m \u001b[0mdf_frequencia\u001b[0m \u001b[0;34m=\u001b[0m \u001b[0mdf_cliente\u001b[0m\u001b[0;34m[\u001b[0m\u001b[0;34m[\u001b[0m\u001b[0;34m'Frequencia'\u001b[0m\u001b[0;34m]\u001b[0m\u001b[0;34m]\u001b[0m\u001b[0;34m\u001b[0m\u001b[0;34m\u001b[0m\u001b[0m\n\u001b[0;32m----> 4\u001b[0;31m \u001b[0mkmeans\u001b[0m \u001b[0;34m=\u001b[0m \u001b[0mKMeans\u001b[0m\u001b[0;34m(\u001b[0m\u001b[0mn_clusters\u001b[0m\u001b[0;34m=\u001b[0m\u001b[0;36m4\u001b[0m\u001b[0;34m)\u001b[0m\u001b[0;34m\u001b[0m\u001b[0;34m\u001b[0m\u001b[0m\n\u001b[0m\u001b[1;32m      5\u001b[0m \u001b[0mdf_cliente\u001b[0m\u001b[0;34m[\u001b[0m\u001b[0;34m'FrequenciaCluster'\u001b[0m\u001b[0;34m]\u001b[0m \u001b[0;34m=\u001b[0m \u001b[0mkmeans\u001b[0m\u001b[0;34m.\u001b[0m\u001b[0mfit_predict\u001b[0m\u001b[0;34m(\u001b[0m\u001b[0mdf_frequencia\u001b[0m\u001b[0;34m)\u001b[0m \u001b[0;31m#cria uma coluna nova chama frequencia cluster dentro de df_cliente\u001b[0m\u001b[0;34m\u001b[0m\u001b[0;34m\u001b[0m\u001b[0m\n\u001b[1;32m      6\u001b[0m \u001b[0mdf_cliente\u001b[0m\u001b[0;34m.\u001b[0m\u001b[0mhead\u001b[0m\u001b[0;34m(\u001b[0m\u001b[0;34m)\u001b[0m\u001b[0;34m\u001b[0m\u001b[0;34m\u001b[0m\u001b[0m\n",
            "\u001b[0;31mTypeError\u001b[0m: 'KMeans' object is not callable"
          ]
        }
      ],
      "source": [
        "#criar um df só com frequencia, pois estamos mexendo com apenas um eixo\n",
        "#definindo os clusters (grupos):\n",
        "df_frequencia = df_cliente[['Frequencia']]\n",
        "kmeans = KMeans(n_clusters=4)\n",
        "df_cliente['FrequenciaCluster'] = kmeans.fit_predict(df_frequencia) #cria uma coluna nova chama frequencia cluster dentro de df_cliente\n",
        "df_cliente.head()\n"
      ]
    }
  ],
  "metadata": {
    "colab": {
      "provenance": [],
      "include_colab_link": true
    },
    "kernelspec": {
      "display_name": "Python 3",
      "name": "python3"
    },
    "language_info": {
      "name": "python"
    }
  },
  "nbformat": 4,
  "nbformat_minor": 0
}